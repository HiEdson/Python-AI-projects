{
  "nbformat": 4,
  "nbformat_minor": 0,
  "metadata": {
    "colab": {
      "name": "TF2.0 intro.ipynb",
      "provenance": [],
      "collapsed_sections": []
    },
    "kernelspec": {
      "name": "python3",
      "display_name": "Python 3"
    }
  },
  "cells": [
    {
      "cell_type": "code",
      "metadata": {
        "id": "JmjM6goZeGJr",
        "colab_type": "code",
        "colab": {
          "base_uri": "https://localhost:8080/",
          "height": 282
        },
        "outputId": "0bb000c2-2b22-429e-d5c9-61bc5117edb6"
      },
      "source": [
        "#check if everything is working well\n",
        "import numpy as np\n",
        "import matplotlib.pyplot as plt\n",
        "\n",
        "x = np.linspace(0, 10*np.pi, 1000)\n",
        "y = np.sin(x)\n",
        "\n",
        "plt.plot(x, y)\n"
      ],
      "execution_count": 2,
      "outputs": [
        {
          "output_type": "execute_result",
          "data": {
            "text/plain": [
              "[<matplotlib.lines.Line2D at 0x7fa482153828>]"
            ]
          },
          "metadata": {
            "tags": []
          },
          "execution_count": 2
        },
        {
          "output_type": "display_data",
          "data": {
            "image/png": "[encoded data removed]",
            "text/plain": [
              "<Figure size 432x288 with 1 Axes>"
            ]
          },
          "metadata": {
            "tags": [],
            "needs_background": "light"
          }
        }
      ]
    },
    {
      "cell_type": "code",
      "metadata": {
        "id": "jvQ2I74NhTUw",
        "colab_type": "code",
        "colab": {}
      },
      "source": [
        "#Starting the Classification problem\n",
        "#in this problem, we´ll build a model to predict if a given image\n",
        "#is cancerigenous as well as the stage of the cancer\n",
        "\n",
        "\n",
        "import tensorflow as tf"
      ],
      "execution_count": 26,
      "outputs": []
    },
    {
      "cell_type": "code",
      "metadata": {
        "id": "H0HsPXwAhaDq",
        "colab_type": "code",
        "colab": {
          "base_uri": "https://localhost:8080/",
          "height": 34
        },
        "outputId": "3da74dee-b9f8-416d-8755-8f27239e85be"
      },
      "source": [
        "print(tf.__version__)"
      ],
      "execution_count": 27,
      "outputs": [
        {
          "output_type": "stream",
          "text": [
            "2.3.0\n"
          ],
          "name": "stdout"
        }
      ]
    },
    {
      "cell_type": "code",
      "metadata": {
        "id": "jeD7OET2hlvD",
        "colab_type": "code",
        "colab": {}
      },
      "source": [
        "from sklearn.datasets import load_breast_cancer"
      ],
      "execution_count": 6,
      "outputs": []
    },
    {
      "cell_type": "code",
      "metadata": {
        "id": "wihNpRuNnzwJ",
        "colab_type": "code",
        "colab": {
          "base_uri": "https://localhost:8080/",
          "height": 34
        },
        "outputId": "b9bfe7ae-8e1c-44a2-84c6-ecd50e8b915a"
      },
      "source": [
        "data = load_breast_cancer()\n",
        "type(data)"
      ],
      "execution_count": 7,
      "outputs": [
        {
          "output_type": "execute_result",
          "data": {
            "text/plain": [
              "sklearn.utils.Bunch"
            ]
          },
          "metadata": {
            "tags": []
          },
          "execution_count": 7
        }
      ]
    },
    {
      "cell_type": "code",
      "metadata": {
        "id": "fnjKX9cnoDMp",
        "colab_type": "code",
        "colab": {
          "base_uri": "https://localhost:8080/",
          "height": 34
        },
        "outputId": "31081285-1588-425d-c1cb-3c9ec3178fa9"
      },
      "source": [
        "data.keys()"
      ],
      "execution_count": 8,
      "outputs": [
        {
          "output_type": "execute_result",
          "data": {
            "text/plain": [
              "dict_keys(['data', 'target', 'target_names', 'DESCR', 'feature_names', 'filename'])"
            ]
          },
          "metadata": {
            "tags": []
          },
          "execution_count": 8
        }
      ]
    },
    {
      "cell_type": "code",
      "metadata": {
        "id": "nanONeIyoLws",
        "colab_type": "code",
        "colab": {
          "base_uri": "https://localhost:8080/",
          "height": 34
        },
        "outputId": "a6f6044d-7887-4df4-f5d6-d8399c6ccb91"
      },
      "source": [
        "data.data.shape\n"
      ],
      "execution_count": 11,
      "outputs": [
        {
          "output_type": "execute_result",
          "data": {
            "text/plain": [
              "(569, 30)"
            ]
          },
          "metadata": {
            "tags": []
          },
          "execution_count": 11
        }
      ]
    },
    {
      "cell_type": "code",
      "metadata": {
        "id": "ec2ber1XoSPq",
        "colab_type": "code",
        "colab": {
          "base_uri": "https://localhost:8080/",
          "height": 459
        },
        "outputId": "4c968070-2e45-4a25-e575-9861b517a9ae"
      },
      "source": [
        "data.target"
      ],
      "execution_count": 12,
      "outputs": [
        {
          "output_type": "execute_result",
          "data": {
            "text/plain": [
              "array([0, 0, 0, 0, 0, 0, 0, 0, 0, 0, 0, 0, 0, 0, 0, 0, 0, 0, 0, 1, 1, 1,\n",
              "       0, 0, 0, 0, 0, 0, 0, 0, 0, 0, 0, 0, 0, 0, 0, 1, 0, 0, 0, 0, 0, 0,\n",
              "       0, 0, 1, 0, 1, 1, 1, 1, 1, 0, 0, 1, 0, 0, 1, 1, 1, 1, 0, 1, 0, 0,\n",
              "       1, 1, 1, 1, 0, 1, 0, 0, 1, 0, 1, 0, 0, 1, 1, 1, 0, 0, 1, 0, 0, 0,\n",
              "       1, 1, 1, 0, 1, 1, 0, 0, 1, 1, 1, 0, 0, 1, 1, 1, 1, 0, 1, 1, 0, 1,\n",
              "       1, 1, 1, 1, 1, 1, 1, 0, 0, 0, 1, 0, 0, 1, 1, 1, 0, 0, 1, 0, 1, 0,\n",
              "       0, 1, 0, 0, 1, 1, 0, 1, 1, 0, 1, 1, 1, 1, 0, 1, 1, 1, 1, 1, 1, 1,\n",
              "       1, 1, 0, 1, 1, 1, 1, 0, 0, 1, 0, 1, 1, 0, 0, 1, 1, 0, 0, 1, 1, 1,\n",
              "       1, 0, 1, 1, 0, 0, 0, 1, 0, 1, 0, 1, 1, 1, 0, 1, 1, 0, 0, 1, 0, 0,\n",
              "       0, 0, 1, 0, 0, 0, 1, 0, 1, 0, 1, 1, 0, 1, 0, 0, 0, 0, 1, 1, 0, 0,\n",
              "       1, 1, 1, 0, 1, 1, 1, 1, 1, 0, 0, 1, 1, 0, 1, 1, 0, 0, 1, 0, 1, 1,\n",
              "       1, 1, 0, 1, 1, 1, 1, 1, 0, 1, 0, 0, 0, 0, 0, 0, 0, 0, 0, 0, 0, 0,\n",
              "       0, 0, 1, 1, 1, 1, 1, 1, 0, 1, 0, 1, 1, 0, 1, 1, 0, 1, 0, 0, 1, 1,\n",
              "       1, 1, 1, 1, 1, 1, 1, 1, 1, 1, 1, 0, 1, 1, 0, 1, 0, 1, 1, 1, 1, 1,\n",
              "       1, 1, 1, 1, 1, 1, 1, 1, 1, 0, 1, 1, 1, 0, 1, 0, 1, 1, 1, 1, 0, 0,\n",
              "       0, 1, 1, 1, 1, 0, 1, 0, 1, 0, 1, 1, 1, 0, 1, 1, 1, 1, 1, 1, 1, 0,\n",
              "       0, 0, 1, 1, 1, 1, 1, 1, 1, 1, 1, 1, 1, 0, 0, 1, 0, 0, 0, 1, 0, 0,\n",
              "       1, 1, 1, 1, 1, 0, 1, 1, 1, 1, 1, 0, 1, 1, 1, 0, 1, 1, 0, 0, 1, 1,\n",
              "       1, 1, 1, 1, 0, 1, 1, 1, 1, 1, 1, 1, 0, 1, 1, 1, 1, 1, 0, 1, 1, 0,\n",
              "       1, 1, 1, 1, 1, 1, 1, 1, 1, 1, 1, 1, 0, 1, 0, 0, 1, 0, 1, 1, 1, 1,\n",
              "       1, 0, 1, 1, 0, 1, 0, 1, 1, 0, 1, 0, 1, 1, 1, 1, 1, 1, 1, 1, 0, 0,\n",
              "       1, 1, 1, 1, 1, 1, 0, 1, 1, 1, 1, 1, 1, 1, 1, 1, 1, 0, 1, 1, 1, 1,\n",
              "       1, 1, 1, 0, 1, 0, 1, 1, 0, 1, 1, 1, 1, 1, 0, 0, 1, 0, 1, 0, 1, 1,\n",
              "       1, 1, 1, 0, 1, 1, 0, 1, 0, 1, 0, 0, 1, 1, 1, 0, 1, 1, 1, 1, 1, 1,\n",
              "       1, 1, 1, 1, 1, 0, 1, 0, 0, 1, 1, 1, 1, 1, 1, 1, 1, 1, 1, 1, 1, 1,\n",
              "       1, 1, 1, 1, 1, 1, 1, 1, 1, 1, 1, 1, 0, 0, 0, 0, 0, 0, 1])"
            ]
          },
          "metadata": {
            "tags": []
          },
          "execution_count": 12
        }
      ]
    },
    {
      "cell_type": "code",
      "metadata": {
        "id": "8WpQO1GaooaB",
        "colab_type": "code",
        "colab": {
          "base_uri": "https://localhost:8080/",
          "height": 34
        },
        "outputId": "f8fc4cf2-2351-4b9a-a526-d9c7212e33d0"
      },
      "source": [
        "data.target_names\n"
      ],
      "execution_count": 13,
      "outputs": [
        {
          "output_type": "execute_result",
          "data": {
            "text/plain": [
              "array(['malignant', 'benign'], dtype='<U9')"
            ]
          },
          "metadata": {
            "tags": []
          },
          "execution_count": 13
        }
      ]
    },
    {
      "cell_type": "code",
      "metadata": {
        "id": "Pn0IZGKZo3mK",
        "colab_type": "code",
        "colab": {
          "base_uri": "https://localhost:8080/",
          "height": 187
        },
        "outputId": "a08621b6-148d-4c16-8b65-b1157d114f8d"
      },
      "source": [
        "data.feature_names"
      ],
      "execution_count": 14,
      "outputs": [
        {
          "output_type": "execute_result",
          "data": {
            "text/plain": [
              "array(['mean radius', 'mean texture', 'mean perimeter', 'mean area',\n",
              "       'mean smoothness', 'mean compactness', 'mean concavity',\n",
              "       'mean concave points', 'mean symmetry', 'mean fractal dimension',\n",
              "       'radius error', 'texture error', 'perimeter error', 'area error',\n",
              "       'smoothness error', 'compactness error', 'concavity error',\n",
              "       'concave points error', 'symmetry error',\n",
              "       'fractal dimension error', 'worst radius', 'worst texture',\n",
              "       'worst perimeter', 'worst area', 'worst smoothness',\n",
              "       'worst compactness', 'worst concavity', 'worst concave points',\n",
              "       'worst symmetry', 'worst fractal dimension'], dtype='<U23')"
            ]
          },
          "metadata": {
            "tags": []
          },
          "execution_count": 14
        }
      ]
    },
    {
      "cell_type": "code",
      "metadata": {
        "id": "pY_SlItEo-ZD",
        "colab_type": "code",
        "colab": {}
      },
      "source": [
        "from sklearn.model_selection import train_test_split\n",
        "\n",
        "X_train, X_test, y_train, y_test = train_test_split(data.data, data.target, test_size=0.33)\n",
        "N, D =X_train.shape"
      ],
      "execution_count": 15,
      "outputs": []
    },
    {
      "cell_type": "code",
      "metadata": {
        "id": "TM5qHL-TuSRS",
        "colab_type": "code",
        "colab": {}
      },
      "source": [
        "#scale the data\n",
        "from sklearn.preprocessing import StandardScaler\n",
        "\n",
        "scaler = StandardScaler()\n",
        "X_train = scaler.fit_transform(X_train)\n",
        "X_test = scaler.fit_transform(X_test)"
      ],
      "execution_count": 16,
      "outputs": []
    },
    {
      "cell_type": "code",
      "metadata": {
        "id": "yuNWWNGUuvzc",
        "colab_type": "code",
        "colab": {
          "base_uri": "https://localhost:8080/",
          "height": 1000
        },
        "outputId": "2ede4fa6-190a-4fa6-c0c9-a682966620b8"
      },
      "source": [
        "#putting all together\n",
        "model = tf.keras.models.Sequential([\n",
        "    tf.keras.layers.Input(shape=(D,)),\n",
        "    tf.keras.layers.Dense(1, activation = \"sigmoid\")\n",
        "])\n",
        "\n",
        "model.compile(optimizer = \"adam\", loss=\"binary_crossentropy\",\n",
        "              metrics=[\"accuracy\"])\n",
        "\n",
        "r = model.fit(X_train, y_train, validation_data=(X_test, y_test), epochs=100)\n",
        "\n",
        "#Evaluate the model - evaluate() returns loss and accuracy\n",
        "print(\"Train score: \", model.evaluate(X_train, y_train))\n",
        "print(\"Test score: \", model.evaluate(X_test, y_test))"
      ],
      "execution_count": 19,
      "outputs": [
        {
          "output_type": "stream",
          "text": [
            "Epoch 1/100\n",
            "12/12 [==============================] - 0s 10ms/step - loss: 0.7920 - accuracy: 0.5302 - val_loss: 0.8025 - val_accuracy: 0.5532\n",
            "Epoch 2/100\n",
            "12/12 [==============================] - 0s 3ms/step - loss: 0.7238 - accuracy: 0.5669 - val_loss: 0.7395 - val_accuracy: 0.5904\n",
            "Epoch 3/100\n",
            "12/12 [==============================] - 0s 2ms/step - loss: 0.6611 - accuracy: 0.6194 - val_loss: 0.6853 - val_accuracy: 0.6223\n",
            "Epoch 4/100\n",
            "12/12 [==============================] - 0s 2ms/step - loss: 0.6086 - accuracy: 0.6719 - val_loss: 0.6373 - val_accuracy: 0.6489\n",
            "Epoch 5/100\n",
            "12/12 [==============================] - 0s 2ms/step - loss: 0.5620 - accuracy: 0.7060 - val_loss: 0.5958 - val_accuracy: 0.6968\n",
            "Epoch 6/100\n",
            "12/12 [==============================] - 0s 2ms/step - loss: 0.5224 - accuracy: 0.7454 - val_loss: 0.5590 - val_accuracy: 0.7500\n",
            "Epoch 7/100\n",
            "12/12 [==============================] - 0s 2ms/step - loss: 0.4868 - accuracy: 0.7664 - val_loss: 0.5271 - val_accuracy: 0.7660\n",
            "Epoch 8/100\n",
            "12/12 [==============================] - 0s 3ms/step - loss: 0.4563 - accuracy: 0.7848 - val_loss: 0.4990 - val_accuracy: 0.8032\n",
            "Epoch 9/100\n",
            "12/12 [==============================] - 0s 2ms/step - loss: 0.4292 - accuracy: 0.7979 - val_loss: 0.4743 - val_accuracy: 0.8138\n",
            "Epoch 10/100\n",
            "12/12 [==============================] - 0s 3ms/step - loss: 0.4053 - accuracy: 0.8136 - val_loss: 0.4524 - val_accuracy: 0.8298\n",
            "Epoch 11/100\n",
            "12/12 [==============================] - 0s 3ms/step - loss: 0.3844 - accuracy: 0.8215 - val_loss: 0.4327 - val_accuracy: 0.8298\n",
            "Epoch 12/100\n",
            "12/12 [==============================] - 0s 2ms/step - loss: 0.3653 - accuracy: 0.8504 - val_loss: 0.4153 - val_accuracy: 0.8351\n",
            "Epoch 13/100\n",
            "12/12 [==============================] - 0s 2ms/step - loss: 0.3489 - accuracy: 0.8609 - val_loss: 0.3990 - val_accuracy: 0.8404\n",
            "Epoch 14/100\n",
            "12/12 [==============================] - 0s 2ms/step - loss: 0.3333 - accuracy: 0.8661 - val_loss: 0.3846 - val_accuracy: 0.8404\n",
            "Epoch 15/100\n",
            "12/12 [==============================] - 0s 2ms/step - loss: 0.3197 - accuracy: 0.8688 - val_loss: 0.3713 - val_accuracy: 0.8564\n",
            "Epoch 16/100\n",
            "12/12 [==============================] - 0s 2ms/step - loss: 0.3071 - accuracy: 0.8714 - val_loss: 0.3591 - val_accuracy: 0.8670\n",
            "Epoch 17/100\n",
            "12/12 [==============================] - 0s 2ms/step - loss: 0.2956 - accuracy: 0.8819 - val_loss: 0.3479 - val_accuracy: 0.8777\n",
            "Epoch 18/100\n",
            "12/12 [==============================] - 0s 2ms/step - loss: 0.2852 - accuracy: 0.8845 - val_loss: 0.3375 - val_accuracy: 0.8777\n",
            "Epoch 19/100\n",
            "12/12 [==============================] - 0s 2ms/step - loss: 0.2757 - accuracy: 0.8898 - val_loss: 0.3276 - val_accuracy: 0.8777\n",
            "Epoch 20/100\n",
            "12/12 [==============================] - 0s 2ms/step - loss: 0.2664 - accuracy: 0.8924 - val_loss: 0.3188 - val_accuracy: 0.8830\n",
            "Epoch 21/100\n",
            "12/12 [==============================] - 0s 2ms/step - loss: 0.2581 - accuracy: 0.8950 - val_loss: 0.3107 - val_accuracy: 0.8989\n",
            "Epoch 22/100\n",
            "12/12 [==============================] - 0s 3ms/step - loss: 0.2505 - accuracy: 0.8950 - val_loss: 0.3029 - val_accuracy: 0.9043\n",
            "Epoch 23/100\n",
            "12/12 [==============================] - 0s 2ms/step - loss: 0.2434 - accuracy: 0.9003 - val_loss: 0.2955 - val_accuracy: 0.9043\n",
            "Epoch 24/100\n",
            "12/12 [==============================] - 0s 3ms/step - loss: 0.2365 - accuracy: 0.9055 - val_loss: 0.2887 - val_accuracy: 0.9043\n",
            "Epoch 25/100\n",
            "12/12 [==============================] - 0s 3ms/step - loss: 0.2301 - accuracy: 0.9108 - val_loss: 0.2825 - val_accuracy: 0.9096\n",
            "Epoch 26/100\n",
            "12/12 [==============================] - 0s 2ms/step - loss: 0.2243 - accuracy: 0.9108 - val_loss: 0.2764 - val_accuracy: 0.9043\n",
            "Epoch 27/100\n",
            "12/12 [==============================] - 0s 2ms/step - loss: 0.2186 - accuracy: 0.9160 - val_loss: 0.2707 - val_accuracy: 0.9043\n",
            "Epoch 28/100\n",
            "12/12 [==============================] - 0s 2ms/step - loss: 0.2136 - accuracy: 0.9160 - val_loss: 0.2651 - val_accuracy: 0.9096\n",
            "Epoch 29/100\n",
            "12/12 [==============================] - 0s 2ms/step - loss: 0.2084 - accuracy: 0.9160 - val_loss: 0.2600 - val_accuracy: 0.9149\n",
            "Epoch 30/100\n",
            "12/12 [==============================] - 0s 2ms/step - loss: 0.2037 - accuracy: 0.9239 - val_loss: 0.2553 - val_accuracy: 0.9149\n",
            "Epoch 31/100\n",
            "12/12 [==============================] - 0s 2ms/step - loss: 0.1993 - accuracy: 0.9265 - val_loss: 0.2505 - val_accuracy: 0.9149\n",
            "Epoch 32/100\n",
            "12/12 [==============================] - 0s 2ms/step - loss: 0.1949 - accuracy: 0.9265 - val_loss: 0.2463 - val_accuracy: 0.9149\n",
            "Epoch 33/100\n",
            "12/12 [==============================] - 0s 3ms/step - loss: 0.1911 - accuracy: 0.9291 - val_loss: 0.2421 - val_accuracy: 0.9255\n",
            "Epoch 34/100\n",
            "12/12 [==============================] - 0s 3ms/step - loss: 0.1871 - accuracy: 0.9318 - val_loss: 0.2381 - val_accuracy: 0.9255\n",
            "Epoch 35/100\n",
            "12/12 [==============================] - 0s 3ms/step - loss: 0.1836 - accuracy: 0.9318 - val_loss: 0.2343 - val_accuracy: 0.9255\n",
            "Epoch 36/100\n",
            "12/12 [==============================] - 0s 3ms/step - loss: 0.1800 - accuracy: 0.9370 - val_loss: 0.2306 - val_accuracy: 0.9255\n",
            "Epoch 37/100\n",
            "12/12 [==============================] - 0s 3ms/step - loss: 0.1768 - accuracy: 0.9423 - val_loss: 0.2271 - val_accuracy: 0.9255\n",
            "Epoch 38/100\n",
            "12/12 [==============================] - 0s 3ms/step - loss: 0.1736 - accuracy: 0.9423 - val_loss: 0.2237 - val_accuracy: 0.9255\n",
            "Epoch 39/100\n",
            "12/12 [==============================] - 0s 3ms/step - loss: 0.1704 - accuracy: 0.9423 - val_loss: 0.2207 - val_accuracy: 0.9202\n",
            "Epoch 40/100\n",
            "12/12 [==============================] - 0s 3ms/step - loss: 0.1676 - accuracy: 0.9423 - val_loss: 0.2177 - val_accuracy: 0.9202\n",
            "Epoch 41/100\n",
            "12/12 [==============================] - 0s 3ms/step - loss: 0.1649 - accuracy: 0.9423 - val_loss: 0.2148 - val_accuracy: 0.9202\n",
            "Epoch 42/100\n",
            "12/12 [==============================] - 0s 3ms/step - loss: 0.1622 - accuracy: 0.9423 - val_loss: 0.2120 - val_accuracy: 0.9255\n",
            "Epoch 43/100\n",
            "12/12 [==============================] - 0s 3ms/step - loss: 0.1597 - accuracy: 0.9423 - val_loss: 0.2093 - val_accuracy: 0.9255\n",
            "Epoch 44/100\n",
            "12/12 [==============================] - 0s 3ms/step - loss: 0.1572 - accuracy: 0.9449 - val_loss: 0.2067 - val_accuracy: 0.9255\n",
            "Epoch 45/100\n",
            "12/12 [==============================] - 0s 3ms/step - loss: 0.1548 - accuracy: 0.9449 - val_loss: 0.2043 - val_accuracy: 0.9255\n",
            "Epoch 46/100\n",
            "12/12 [==============================] - 0s 3ms/step - loss: 0.1527 - accuracy: 0.9449 - val_loss: 0.2018 - val_accuracy: 0.9255\n",
            "Epoch 47/100\n",
            "12/12 [==============================] - 0s 3ms/step - loss: 0.1504 - accuracy: 0.9449 - val_loss: 0.1995 - val_accuracy: 0.9255\n",
            "Epoch 48/100\n",
            "12/12 [==============================] - 0s 3ms/step - loss: 0.1483 - accuracy: 0.9449 - val_loss: 0.1973 - val_accuracy: 0.9255\n",
            "Epoch 49/100\n",
            "12/12 [==============================] - 0s 3ms/step - loss: 0.1463 - accuracy: 0.9449 - val_loss: 0.1952 - val_accuracy: 0.9255\n",
            "Epoch 50/100\n",
            "12/12 [==============================] - 0s 3ms/step - loss: 0.1443 - accuracy: 0.9449 - val_loss: 0.1931 - val_accuracy: 0.9255\n",
            "Epoch 51/100\n",
            "12/12 [==============================] - 0s 3ms/step - loss: 0.1424 - accuracy: 0.9449 - val_loss: 0.1910 - val_accuracy: 0.9255\n",
            "Epoch 52/100\n",
            "12/12 [==============================] - 0s 2ms/step - loss: 0.1406 - accuracy: 0.9449 - val_loss: 0.1891 - val_accuracy: 0.9255\n",
            "Epoch 53/100\n",
            "12/12 [==============================] - 0s 2ms/step - loss: 0.1389 - accuracy: 0.9475 - val_loss: 0.1872 - val_accuracy: 0.9255\n",
            "Epoch 54/100\n",
            "12/12 [==============================] - 0s 2ms/step - loss: 0.1371 - accuracy: 0.9501 - val_loss: 0.1854 - val_accuracy: 0.9255\n",
            "Epoch 55/100\n",
            "12/12 [==============================] - 0s 2ms/step - loss: 0.1354 - accuracy: 0.9528 - val_loss: 0.1837 - val_accuracy: 0.9255\n",
            "Epoch 56/100\n",
            "12/12 [==============================] - 0s 2ms/step - loss: 0.1338 - accuracy: 0.9528 - val_loss: 0.1820 - val_accuracy: 0.9255\n",
            "Epoch 57/100\n",
            "12/12 [==============================] - 0s 2ms/step - loss: 0.1324 - accuracy: 0.9554 - val_loss: 0.1803 - val_accuracy: 0.9255\n",
            "Epoch 58/100\n",
            "12/12 [==============================] - 0s 3ms/step - loss: 0.1308 - accuracy: 0.9554 - val_loss: 0.1787 - val_accuracy: 0.9255\n",
            "Epoch 59/100\n",
            "12/12 [==============================] - 0s 3ms/step - loss: 0.1293 - accuracy: 0.9554 - val_loss: 0.1771 - val_accuracy: 0.9255\n",
            "Epoch 60/100\n",
            "12/12 [==============================] - 0s 2ms/step - loss: 0.1279 - accuracy: 0.9580 - val_loss: 0.1757 - val_accuracy: 0.9255\n",
            "Epoch 61/100\n",
            "12/12 [==============================] - 0s 2ms/step - loss: 0.1265 - accuracy: 0.9580 - val_loss: 0.1742 - val_accuracy: 0.9255\n",
            "Epoch 62/100\n",
            "12/12 [==============================] - 0s 2ms/step - loss: 0.1252 - accuracy: 0.9606 - val_loss: 0.1728 - val_accuracy: 0.9309\n",
            "Epoch 63/100\n",
            "12/12 [==============================] - 0s 2ms/step - loss: 0.1239 - accuracy: 0.9606 - val_loss: 0.1714 - val_accuracy: 0.9309\n",
            "Epoch 64/100\n",
            "12/12 [==============================] - 0s 2ms/step - loss: 0.1226 - accuracy: 0.9633 - val_loss: 0.1701 - val_accuracy: 0.9309\n",
            "Epoch 65/100\n",
            "12/12 [==============================] - 0s 2ms/step - loss: 0.1214 - accuracy: 0.9659 - val_loss: 0.1688 - val_accuracy: 0.9309\n",
            "Epoch 66/100\n",
            "12/12 [==============================] - 0s 2ms/step - loss: 0.1202 - accuracy: 0.9659 - val_loss: 0.1675 - val_accuracy: 0.9309\n",
            "Epoch 67/100\n",
            "12/12 [==============================] - 0s 3ms/step - loss: 0.1190 - accuracy: 0.9685 - val_loss: 0.1662 - val_accuracy: 0.9309\n",
            "Epoch 68/100\n",
            "12/12 [==============================] - 0s 2ms/step - loss: 0.1178 - accuracy: 0.9685 - val_loss: 0.1651 - val_accuracy: 0.9309\n",
            "Epoch 69/100\n",
            "12/12 [==============================] - 0s 2ms/step - loss: 0.1167 - accuracy: 0.9685 - val_loss: 0.1639 - val_accuracy: 0.9362\n",
            "Epoch 70/100\n",
            "12/12 [==============================] - 0s 2ms/step - loss: 0.1157 - accuracy: 0.9685 - val_loss: 0.1627 - val_accuracy: 0.9362\n",
            "Epoch 71/100\n",
            "12/12 [==============================] - 0s 3ms/step - loss: 0.1146 - accuracy: 0.9685 - val_loss: 0.1616 - val_accuracy: 0.9362\n",
            "Epoch 72/100\n",
            "12/12 [==============================] - 0s 2ms/step - loss: 0.1135 - accuracy: 0.9685 - val_loss: 0.1605 - val_accuracy: 0.9362\n",
            "Epoch 73/100\n",
            "12/12 [==============================] - 0s 3ms/step - loss: 0.1126 - accuracy: 0.9685 - val_loss: 0.1594 - val_accuracy: 0.9415\n",
            "Epoch 74/100\n",
            "12/12 [==============================] - 0s 2ms/step - loss: 0.1115 - accuracy: 0.9685 - val_loss: 0.1584 - val_accuracy: 0.9415\n",
            "Epoch 75/100\n",
            "12/12 [==============================] - 0s 3ms/step - loss: 0.1106 - accuracy: 0.9685 - val_loss: 0.1574 - val_accuracy: 0.9415\n",
            "Epoch 76/100\n",
            "12/12 [==============================] - 0s 2ms/step - loss: 0.1097 - accuracy: 0.9685 - val_loss: 0.1564 - val_accuracy: 0.9415\n",
            "Epoch 77/100\n",
            "12/12 [==============================] - 0s 2ms/step - loss: 0.1087 - accuracy: 0.9685 - val_loss: 0.1555 - val_accuracy: 0.9415\n",
            "Epoch 78/100\n",
            "12/12 [==============================] - 0s 3ms/step - loss: 0.1079 - accuracy: 0.9685 - val_loss: 0.1545 - val_accuracy: 0.9415\n",
            "Epoch 79/100\n",
            "12/12 [==============================] - 0s 3ms/step - loss: 0.1069 - accuracy: 0.9685 - val_loss: 0.1536 - val_accuracy: 0.9415\n",
            "Epoch 80/100\n",
            "12/12 [==============================] - 0s 2ms/step - loss: 0.1061 - accuracy: 0.9685 - val_loss: 0.1526 - val_accuracy: 0.9415\n",
            "Epoch 81/100\n",
            "12/12 [==============================] - 0s 2ms/step - loss: 0.1052 - accuracy: 0.9711 - val_loss: 0.1518 - val_accuracy: 0.9415\n",
            "Epoch 82/100\n",
            "12/12 [==============================] - 0s 3ms/step - loss: 0.1044 - accuracy: 0.9711 - val_loss: 0.1510 - val_accuracy: 0.9415\n",
            "Epoch 83/100\n",
            "12/12 [==============================] - 0s 3ms/step - loss: 0.1036 - accuracy: 0.9711 - val_loss: 0.1501 - val_accuracy: 0.9415\n",
            "Epoch 84/100\n",
            "12/12 [==============================] - 0s 2ms/step - loss: 0.1029 - accuracy: 0.9711 - val_loss: 0.1492 - val_accuracy: 0.9415\n",
            "Epoch 85/100\n",
            "12/12 [==============================] - 0s 2ms/step - loss: 0.1020 - accuracy: 0.9711 - val_loss: 0.1485 - val_accuracy: 0.9415\n",
            "Epoch 86/100\n",
            "12/12 [==============================] - 0s 2ms/step - loss: 0.1012 - accuracy: 0.9711 - val_loss: 0.1477 - val_accuracy: 0.9415\n",
            "Epoch 87/100\n",
            "12/12 [==============================] - 0s 2ms/step - loss: 0.1005 - accuracy: 0.9711 - val_loss: 0.1469 - val_accuracy: 0.9415\n",
            "Epoch 88/100\n",
            "12/12 [==============================] - 0s 2ms/step - loss: 0.0998 - accuracy: 0.9711 - val_loss: 0.1462 - val_accuracy: 0.9468\n",
            "Epoch 89/100\n",
            "12/12 [==============================] - 0s 2ms/step - loss: 0.0990 - accuracy: 0.9711 - val_loss: 0.1455 - val_accuracy: 0.9468\n",
            "Epoch 90/100\n",
            "12/12 [==============================] - 0s 2ms/step - loss: 0.0984 - accuracy: 0.9711 - val_loss: 0.1447 - val_accuracy: 0.9468\n",
            "Epoch 91/100\n",
            "12/12 [==============================] - 0s 2ms/step - loss: 0.0977 - accuracy: 0.9711 - val_loss: 0.1440 - val_accuracy: 0.9468\n",
            "Epoch 92/100\n",
            "12/12 [==============================] - 0s 2ms/step - loss: 0.0969 - accuracy: 0.9711 - val_loss: 0.1433 - val_accuracy: 0.9468\n",
            "Epoch 93/100\n",
            "12/12 [==============================] - 0s 3ms/step - loss: 0.0964 - accuracy: 0.9738 - val_loss: 0.1427 - val_accuracy: 0.9468\n",
            "Epoch 94/100\n",
            "12/12 [==============================] - 0s 3ms/step - loss: 0.0956 - accuracy: 0.9738 - val_loss: 0.1420 - val_accuracy: 0.9468\n",
            "Epoch 95/100\n",
            "12/12 [==============================] - 0s 3ms/step - loss: 0.0950 - accuracy: 0.9738 - val_loss: 0.1413 - val_accuracy: 0.9468\n",
            "Epoch 96/100\n",
            "12/12 [==============================] - 0s 2ms/step - loss: 0.0944 - accuracy: 0.9738 - val_loss: 0.1407 - val_accuracy: 0.9468\n",
            "Epoch 97/100\n",
            "12/12 [==============================] - 0s 2ms/step - loss: 0.0937 - accuracy: 0.9738 - val_loss: 0.1401 - val_accuracy: 0.9468\n",
            "Epoch 98/100\n",
            "12/12 [==============================] - 0s 2ms/step - loss: 0.0931 - accuracy: 0.9738 - val_loss: 0.1395 - val_accuracy: 0.9468\n",
            "Epoch 99/100\n",
            "12/12 [==============================] - 0s 2ms/step - loss: 0.0925 - accuracy: 0.9738 - val_loss: 0.1389 - val_accuracy: 0.9468\n",
            "Epoch 100/100\n",
            "12/12 [==============================] - 0s 2ms/step - loss: 0.0919 - accuracy: 0.9738 - val_loss: 0.1383 - val_accuracy: 0.9468\n",
            "12/12 [==============================] - 0s 912us/step - loss: 0.0916 - accuracy: 0.9738\n",
            "Train score:  [0.09159088134765625, 0.9737532734870911]\n",
            "6/6 [==============================] - 0s 1ms/step - loss: 0.1383 - accuracy: 0.9468\n",
            "Test score:  [0.13825133442878723, 0.9468085169792175]\n"
          ],
          "name": "stdout"
        }
      ]
    },
    {
      "cell_type": "code",
      "metadata": {
        "id": "vSUKHiIdwhb9",
        "colab_type": "code",
        "colab": {
          "base_uri": "https://localhost:8080/",
          "height": 282
        },
        "outputId": "f9657753-40d2-441c-b656-df0d19ca6668"
      },
      "source": [
        "#plot what´s returned by model.fit()\n",
        "import matplotlib.pyplot as plt\n",
        "plt.plot(r.history['loss'], label = 'loss')\n",
        "plt.plot(r.history['val_loss'], label = 'test_loss')\n",
        "plt.legend()"
      ],
      "execution_count": 22,
      "outputs": [
        {
          "output_type": "execute_result",
          "data": {
            "text/plain": [
              "<matplotlib.legend.Legend at 0x7fa43146cfd0>"
            ]
          },
          "metadata": {
            "tags": []
          },
          "execution_count": 22
        },
        {
          "output_type": "display_data",
          "data": {
            "image/png": "[encoded data removed]",
            "text/plain": [
              "<Figure size 432x288 with 1 Axes>"
            ]
          },
          "metadata": {
            "tags": [],
            "needs_background": "light"
          }
        }
      ]
    },
    {
      "cell_type": "code",
      "metadata": {
        "id": "pI3uv8WHyZYR",
        "colab_type": "code",
        "colab": {
          "base_uri": "https://localhost:8080/",
          "height": 282
        },
        "outputId": "23df7bcf-2aad-489c-92d3-eea3cdd01efb"
      },
      "source": [
        "#plot the accuracy as well\n",
        "plt.plot(r.history['accuracy'], label='acc')\n",
        "plt.plot(r.history['val_accuracy'], label='test_acurracy')\n",
        "plt.legend()"
      ],
      "execution_count": 24,
      "outputs": [
        {
          "output_type": "execute_result",
          "data": {
            "text/plain": [
              "<matplotlib.legend.Legend at 0x7fa481c9b5c0>"
            ]
          },
          "metadata": {
            "tags": []
          },
          "execution_count": 24
        },
        {
          "output_type": "display_data",
          "data": {
            "image/png": "[encoded data removed]",
            "text/plain": [
              "<Figure size 432x288 with 1 Axes>"
            ]
          },
          "metadata": {
            "tags": [],
            "needs_background": "light"
          }
        }
      ]
    },
    {
      "cell_type": "code",
      "metadata": {
        "id": "Rdm9y1ZOzN9G",
        "colab_type": "code",
        "colab": {}
      },
      "source": [
        "#End of this Classification problem"
      ],
      "execution_count": null,
      "outputs": []
    }
  ]
}